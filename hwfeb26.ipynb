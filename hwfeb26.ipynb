{
  "nbformat": 4,
  "nbformat_minor": 0,
  "metadata": {
    "colab": {
      "provenance": [],
      "authorship_tag": "ABX9TyO3LXih9HVdiSUOiw7JORfL",
      "include_colab_link": true
    },
    "kernelspec": {
      "name": "python3",
      "display_name": "Python 3"
    },
    "language_info": {
      "name": "python"
    }
  },
  "cells": [
    {
      "cell_type": "markdown",
      "metadata": {
        "id": "view-in-github",
        "colab_type": "text"
      },
      "source": [
        "<a href=\"https://colab.research.google.com/github/lillybethw/DS1002/blob/main/hwfeb26.ipynb\" target=\"_parent\"><img src=\"https://colab.research.google.com/assets/colab-badge.svg\" alt=\"Open In Colab\"/></a>"
      ]
    },
    {
      "cell_type": "code",
      "execution_count": 2,
      "metadata": {
        "colab": {
          "base_uri": "https://localhost:8080/"
        },
        "id": "Dr1FlQywBFzY",
        "outputId": "37a744e4-809e-4d1e-b160-10695ad5367d"
      },
      "outputs": [
        {
          "output_type": "stream",
          "name": "stdout",
          "text": [
            "Collecting english_words\n",
            "  Downloading english-words-2.0.1.tar.gz (8.2 MB)\n",
            "\u001b[2K     \u001b[90m━━━━━━━━━━━━━━━━━━━━━━━━━━━━━━━━━━━━━━━━\u001b[0m \u001b[32m8.2/8.2 MB\u001b[0m \u001b[31m28.5 MB/s\u001b[0m eta \u001b[36m0:00:00\u001b[0m\n",
            "\u001b[?25h  Installing build dependencies ... \u001b[?25l\u001b[?25hdone\n",
            "  Getting requirements to build wheel ... \u001b[?25l\u001b[?25hdone\n",
            "  Preparing metadata (pyproject.toml) ... \u001b[?25l\u001b[?25hdone\n",
            "Building wheels for collected packages: english_words\n",
            "  Building wheel for english_words (pyproject.toml) ... \u001b[?25l\u001b[?25hdone\n",
            "  Created wheel for english_words: filename=english_words-2.0.1-py3-none-any.whl size=8196238 sha256=5c5b76fd0f654725578b486a8e655fa5c90b2347ef9e84f8f737183eef65812d\n",
            "  Stored in directory: /root/.cache/pip/wheels/f0/e6/d9/16a123647999fe535f03a36e7af23eef203736d84c7ca25b0b\n",
            "Successfully built english_words\n",
            "Installing collected packages: english_words\n",
            "Successfully installed english_words-2.0.1\n"
          ]
        }
      ],
      "source": [
        "!pip install english_words\n",
        "from english_words import get_english_words_set\n",
        "words = get_english_words_set(['web2'], lower=True)"
      ]
    },
    {
      "cell_type": "code",
      "source": [
        "type(words) #shows that words is a set\n",
        "wordlist = list(words) #converts the set to a list\n",
        "len(wordlist) #shows wordlist is 234450 items long"
      ],
      "metadata": {
        "colab": {
          "base_uri": "https://localhost:8080/"
        },
        "id": "H4eomkwgBm0r",
        "outputId": "60cd2c18-c205-4c27-e84e-f52ad7323d6b"
      },
      "execution_count": 3,
      "outputs": [
        {
          "output_type": "execute_result",
          "data": {
            "text/plain": [
              "234450"
            ]
          },
          "metadata": {},
          "execution_count": 3
        }
      ]
    },
    {
      "cell_type": "code",
      "source": [
        "print(wordlist[0:10]) #shows a randomly ordered list of 10"
      ],
      "metadata": {
        "colab": {
          "base_uri": "https://localhost:8080/"
        },
        "id": "QV1wVFUmCQMF",
        "outputId": "663226cd-0cbd-4f17-e5fc-e6029ce55edb"
      },
      "execution_count": 4,
      "outputs": [
        {
          "output_type": "stream",
          "name": "stdout",
          "text": [
            "['farcicalness', 'boophilus', 'ganef', 'mountain', 'guan', 'brachycephaly', 'postethmoid', 'decylic', 'aday', 'bosniac']\n"
          ]
        }
      ]
    },
    {
      "cell_type": "code",
      "source": [
        "alpha_list = sorted(wordlist)\n",
        "print(alpha_list[0:10]) # first 10 items in alpha_list"
      ],
      "metadata": {
        "colab": {
          "base_uri": "https://localhost:8080/"
        },
        "id": "hKxqRbhREd_G",
        "outputId": "a91789c6-b13a-4aee-c424-3f231c018e89"
      },
      "execution_count": 5,
      "outputs": [
        {
          "output_type": "stream",
          "name": "stdout",
          "text": [
            "['a', 'aa', 'aal', 'aalii', 'aam', 'aani', 'aardvark', 'aardwolf', 'aaron', 'aaronic']\n"
          ]
        }
      ]
    },
    {
      "cell_type": "code",
      "source": [
        "# shows index of the first word starting w/ 'b', which is also the total number of words starting w/ 'a'\n",
        "alpha_list.index('b')"
      ],
      "metadata": {
        "colab": {
          "base_uri": "https://localhost:8080/"
        },
        "id": "yHvBqdjcHV9G",
        "outputId": "9a1c9e69-c57a-4df7-f649-ad04bd03c902"
      },
      "execution_count": 6,
      "outputs": [
        {
          "output_type": "execute_result",
          "data": {
            "text/plain": [
              "16982"
            ]
          },
          "metadata": {},
          "execution_count": 6
        }
      ]
    },
    {
      "cell_type": "code",
      "source": [
        "q = 'q'\n",
        "has_q = [q in word for word in alpha_list]\n",
        "sum(has_q) #number or words that has a q"
      ],
      "metadata": {
        "colab": {
          "base_uri": "https://localhost:8080/"
        },
        "id": "QcWIPXfdL0ej",
        "outputId": "98d43db1-3d7b-43b9-af7c-7df2d29ed3b2"
      },
      "execution_count": 7,
      "outputs": [
        {
          "output_type": "execute_result",
          "data": {
            "text/plain": [
              "3624"
            ]
          },
          "metadata": {},
          "execution_count": 7
        }
      ]
    },
    {
      "cell_type": "code",
      "source": [
        "e = 'e'\n",
        "has_e = sum([e in word for word in alpha_list]) # sum of words that have 'e' in alpha_list\n",
        "alpha_list_length = len(alpha_list)\n",
        "no_e = alpha_list_length - has_e # total words minus words with e\n",
        "print(str(no_e) + \" of \" + str(alpha_list_length) + \" words in alpha_list don't have an e\")"
      ],
      "metadata": {
        "colab": {
          "base_uri": "https://localhost:8080/"
        },
        "id": "KfvOFn47OsnF",
        "outputId": "a02c3d3a-1838-4d47-d8d8-688ac679ff02"
      },
      "execution_count": 8,
      "outputs": [
        {
          "output_type": "stream",
          "name": "stdout",
          "text": [
            "76966 of 234450 words in alpha_list don't have an e\n"
          ]
        }
      ]
    },
    {
      "cell_type": "code",
      "source": [
        "import numpy as np\n",
        "# makes the lists arrays\n",
        "alpha_array = np.array(alpha_list)\n",
        "wordlist_array = np.array(wordlist)"
      ],
      "metadata": {
        "id": "4e_w6ZXEemWm"
      },
      "execution_count": 9,
      "outputs": []
    },
    {
      "cell_type": "code",
      "source": [
        "alphabet = [chr(i) for i in range(ord('a'),ord('z')+1)]\n",
        "alphabet # prints a list of the alphabet"
      ],
      "metadata": {
        "colab": {
          "base_uri": "https://localhost:8080/"
        },
        "id": "tcbQNyjzfDtq",
        "outputId": "17e42a13-370c-4cd1-c97e-73e1067606fa"
      },
      "execution_count": 10,
      "outputs": [
        {
          "output_type": "execute_result",
          "data": {
            "text/plain": [
              "['a',\n",
              " 'b',\n",
              " 'c',\n",
              " 'd',\n",
              " 'e',\n",
              " 'f',\n",
              " 'g',\n",
              " 'h',\n",
              " 'i',\n",
              " 'j',\n",
              " 'k',\n",
              " 'l',\n",
              " 'm',\n",
              " 'n',\n",
              " 'o',\n",
              " 'p',\n",
              " 'q',\n",
              " 'r',\n",
              " 's',\n",
              " 't',\n",
              " 'u',\n",
              " 'v',\n",
              " 'w',\n",
              " 'x',\n",
              " 'y',\n",
              " 'z']"
            ]
          },
          "metadata": {},
          "execution_count": 10
        }
      ]
    },
    {
      "cell_type": "code",
      "source": [
        "import matplotlib.pyplot as plt\n",
        "\n",
        "numlist = [] # makes an empty list\n",
        "for letter in alphabet: # iterates through every letter in alphabet list\n",
        "  count = sum(1 for word in wordlist if word[0] == letter) # counts the number of words starting with current letter in iteration\n",
        "  numlist.append(count) # adds total count to the empty list\n",
        "\n",
        "x = alphabet # assigns letters of alphabet to x axis\n",
        "y = numlist # assigns frequency of words to y axis\n",
        "plt.title('Frequency of Words Starting with Each Letter')\n",
        "plt.xlabel('Letter')\n",
        "plt.ylabel('Frequency')\n",
        "plt.bar(x, y, color='green')"
      ],
      "metadata": {
        "colab": {
          "base_uri": "https://localhost:8080/",
          "height": 489
        },
        "id": "9lQE4V-NAZJC",
        "outputId": "51c49ad0-76f9-4788-a14c-e17a808cb26d"
      },
      "execution_count": 11,
      "outputs": [
        {
          "output_type": "execute_result",
          "data": {
            "text/plain": [
              "<BarContainer object of 26 artists>"
            ]
          },
          "metadata": {},
          "execution_count": 11
        },
        {
          "output_type": "display_data",
          "data": {
            "text/plain": [
              "<Figure size 640x480 with 1 Axes>"
            ],
            "image/png": "[encoded data removed]"
          },
          "metadata": {}
        }
      ]
    },
    {
      "cell_type": "code",
      "source": [
        "sorted_wordlist = sorted(wordlist, key=len, reverse=True) # sorts wordlist by length of element, then sorts by descending number\n",
        "print(sorted_wordlist[0:6]) # prints first 6 words"
      ],
      "metadata": {
        "colab": {
          "base_uri": "https://localhost:8080/"
        },
        "id": "xy4CZSfhWmjK",
        "outputId": "2921724a-e7e1-4aee-ae14-4d9ea3170404"
      },
      "execution_count": 12,
      "outputs": [
        {
          "output_type": "stream",
          "name": "stdout",
          "text": [
            "['antidisestablishmentarianism', 'tetraiodophenolphthalein', 'scientificophilosophical', 'pathologicopsychological', 'formaldehydesulphoxylate', 'thyroparathyroidectomize']\n"
          ]
        }
      ]
    },
    {
      "cell_type": "code",
      "source": [
        "wordlength = [len(word) for word in wordlist] # makes a list of the length of words in wordlist\n",
        "\n",
        "plt.title('Number of Words of Each Length')\n",
        "plt.xlabel('Word Length')\n",
        "plt.ylabel('Frequency')\n",
        "plt.xticks(range(1, 29)) # labels the ticks on the x axis\n",
        "plt.hist(wordlength, bins=range(1, 29), edgecolor='pink') # sets bins and edge color for better visualization"
      ],
      "metadata": {
        "colab": {
          "base_uri": "https://localhost:8080/",
          "height": 642
        },
        "id": "_-5JZrxFcDc7",
        "outputId": "07692155-706c-4638-b00c-7cbaf32ea9c7"
      },
      "execution_count": 32,
      "outputs": [
        {
          "output_type": "execute_result",
          "data": {
            "text/plain": [
              "(array([2.6000e+01, 1.3900e+02, 1.3000e+03, 5.0060e+03, 9.9790e+03,\n",
              "        1.7468e+04, 2.3723e+04, 2.9851e+04, 3.2294e+04, 3.0828e+04,\n",
              "        2.5968e+04, 2.0453e+04, 1.4925e+04, 9.7630e+03, 5.9230e+03,\n",
              "        3.3760e+03, 1.8140e+03, 8.4200e+02, 4.2800e+02, 1.9800e+02,\n",
              "        8.2000e+01, 4.1000e+01, 1.7000e+01, 5.0000e+00, 0.0000e+00,\n",
              "        0.0000e+00, 1.0000e+00]),\n",
              " array([ 1.,  2.,  3.,  4.,  5.,  6.,  7.,  8.,  9., 10., 11., 12., 13.,\n",
              "        14., 15., 16., 17., 18., 19., 20., 21., 22., 23., 24., 25., 26.,\n",
              "        27., 28.]),\n",
              " <BarContainer object of 27 artists>)"
            ]
          },
          "metadata": {},
          "execution_count": 32
        },
        {
          "output_type": "display_data",
          "data": {
            "text/plain": [
              "<Figure size 640x480 with 1 Axes>"
            ],
            "image/png": "[encoded data removed]"
          },
          "metadata": {}
        }
      ]
    },
    {
      "cell_type": "markdown",
      "source": [
        "9.) in wordlist, the most common length of a word is 9 letters."
      ],
      "metadata": {
        "id": "-ZRjmK0G_Fsw"
      }
    }
  ]
}