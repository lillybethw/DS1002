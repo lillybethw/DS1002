{
  "nbformat": 4,
  "nbformat_minor": 0,
  "metadata": {
    "colab": {
      "provenance": [],
      "include_colab_link": true
    },
    "kernelspec": {
      "name": "python3",
      "display_name": "Python 3"
    },
    "language_info": {
      "name": "python"
    }
  },
  "cells": [
    {
      "cell_type": "markdown",
      "metadata": {
        "id": "view-in-github",
        "colab_type": "text"
      },
      "source": [
        "<a href=\"https://colab.research.google.com/github/lillybethw/DS1002/blob/main/Assignments/13_Classes.ipynb\" target=\"_parent\"><img src=\"https://colab.research.google.com/assets/colab-badge.svg\" alt=\"Open In Colab\"/></a>"
      ]
    },
    {
      "cell_type": "markdown",
      "source": [
        "## Assignment:  Classes\n",
        "### Due Sunday 28 April at 10pm"
      ],
      "metadata": {
        "id": "5Vy93BSp9Tum"
      }
    },
    {
      "cell_type": "markdown",
      "source": [
        "1.  Define a class called `Person` that has attributes `lastName`, `firstName`, `mother`, and `father`.  Both `mother` and `father` should have default value `unknown`.\n",
        "\n",
        "  Include a `__str__()` function that returns a string of the form '`firstName` `lastName`'.\n",
        "\n",
        "  Include a `__repr__()` function that returns a string that can be evaluated to recreate the `Person` object.\n",
        "\n"
      ],
      "metadata": {
        "id": "vcj5XQAI9Wsb"
      }
    },
    {
      "cell_type": "code",
      "source": [
        "class Person:\n",
        "  def __init__(self, lastName, firstName, mother='unknown', father='unknown'):\n",
        "    self.lastName = lastName\n",
        "    self.firstName = firstName\n",
        "    self.mother = mother\n",
        "    self.father = father\n",
        "\n",
        "  def __str__(self):\n",
        "    return f\"{self.firstName} {self.lastName}\"\n",
        "\n",
        "  def __repr__(self):\n",
        "    return f\"Person('{self.lastName}', '{self.firstName}', '{self.mother}', '{self.father}')\"\n"
      ],
      "metadata": {
        "id": "mjHDwHv3EpVe"
      },
      "execution_count": 5,
      "outputs": []
    },
    {
      "cell_type": "markdown",
      "source": [
        "Create a person (i.e., a `Person` object) called `p` with unknown parents.  (You will need to give your person a first and last name.) Check the type of `p`.  Include all inputs and outputs."
      ],
      "metadata": {
        "id": "-ppMsEIVHINl"
      }
    },
    {
      "cell_type": "code",
      "source": [
        "p = Person('Hanks', 'Tom')\n",
        "print(type(p))"
      ],
      "metadata": {
        "id": "5bwid_6gHIBH",
        "outputId": "472c09b1-487f-4b82-ded4-82e594809a43",
        "colab": {
          "base_uri": "https://localhost:8080/"
        }
      },
      "execution_count": 6,
      "outputs": [
        {
          "output_type": "stream",
          "name": "stdout",
          "text": [
            "<class '__main__.Person'>\n"
          ]
        }
      ]
    },
    {
      "cell_type": "markdown",
      "source": [
        "Verify that your `__str__` and `__repr__` functions are doing what they are supposed to do.  Include all inputs and outputs."
      ],
      "metadata": {
        "id": "Z6zlUC3xRtal"
      }
    },
    {
      "cell_type": "code",
      "source": [
        "print(str(p))\n",
        "print(repr(p))"
      ],
      "metadata": {
        "id": "jZO0dBQYRs-K",
        "outputId": "87ef487c-0e09-4cf2-b2dd-d2991f6ca5de",
        "colab": {
          "base_uri": "https://localhost:8080/"
        }
      },
      "execution_count": 7,
      "outputs": [
        {
          "output_type": "stream",
          "name": "stdout",
          "text": [
            "Tom Hanks\n",
            "Person('Hanks', 'Tom', 'unknown', 'unknown')\n"
          ]
        }
      ]
    },
    {
      "cell_type": "markdown",
      "source": [
        "Suppose the mother of `p` has been found and is named Taylor Swift.  Create a new person named Taylor Swift, and make her the mother of `p`:\n",
        "\n",
        "```\n",
        "> p.mother\n",
        "'Taylor Swift'\n",
        "```"
      ],
      "metadata": {
        "id": "1mOAThQiHzoQ"
      }
    },
    {
      "cell_type": "code",
      "source": [
        "tswift = Person('Swift', 'Taylor')\n",
        "p.mother = tswift\n",
        "p"
      ],
      "metadata": {
        "id": "NYbDOorpHymz",
        "outputId": "296458e3-3459-40c0-96b6-42c94f4bcbdd",
        "colab": {
          "base_uri": "https://localhost:8080/"
        }
      },
      "execution_count": 9,
      "outputs": [
        {
          "output_type": "execute_result",
          "data": {
            "text/plain": [
              "Person('Hanks', 'Tom', 'Taylor Swift', 'unknown')"
            ]
          },
          "metadata": {},
          "execution_count": 9
        }
      ]
    },
    {
      "cell_type": "markdown",
      "source": [
        "2.  Add some methods to your class.  Start by copying the `class` definition you already wrote.  Then, inside the `class` definition:\n",
        "\n",
        "  (a) Write a method called `unknownParent()` which returns `True` if any parent is 'unknown' and `False` otherwise.\n",
        "\n",
        "  (b) Write a method called `maternalGrandmother()` which returns the mother's mother.  If the mother is unknown, it should return 'unknown'.\n",
        "\n"
      ],
      "metadata": {
        "id": "1g1pcrmFHzGh"
      }
    },
    {
      "cell_type": "code",
      "source": [
        "class Person:\n",
        "  def __init__(self, lastName, firstName, mother='unknown', father='unknown'):\n",
        "    self.lastName = lastName\n",
        "    self.firstName = firstName\n",
        "    self.mother = mother\n",
        "    self.father = father\n",
        "\n",
        "  def __str__(self):\n",
        "    return f\"{self.firstName} {self.lastName}\"\n",
        "\n",
        "  def __repr__(self):\n",
        "    return f\"Person('{self.lastName}', '{self.firstName}', '{self.mother}', '{self.father}')\"\n",
        "\n",
        "  def unknownParent(self):\n",
        "    return self.mother == 'unknown' or self.father == 'unknown'\n",
        "\n",
        "  def maternalGrandmother(self):\n",
        "    if self.mother == 'unknown':\n",
        "      return 'unknown'\n",
        "    else:\n",
        "      return self.mother.mother"
      ],
      "metadata": {
        "id": "7mIxJGwwKTpv"
      },
      "execution_count": 10,
      "outputs": []
    },
    {
      "cell_type": "markdown",
      "source": [
        "Create enough `Person` objects to test whether your methods are working properly.  Show all your inputs and outputs.  It is up to you to demonstrate that you have thoroughly tested the code.  You may use additional code and/or text chunks if it helps."
      ],
      "metadata": {
        "id": "l9-4gxd8FxAQ"
      }
    },
    {
      "cell_type": "code",
      "source": [
        "grandma = Person('Smith', 'Nancy')\n",
        "mom = Person('Smith', 'Karen')\n",
        "new_p = Person('Smith', 'John')\n",
        "dad = Person(\"Smith\", \"Frank\")\n",
        "\n",
        "new_p.father = dad\n",
        "mom.mother = grandma\n",
        "new_p.mother = mom\n",
        "\n",
        "# checking lineage\n",
        "print(str(new_p))\n",
        "print(repr(new_p))\n",
        "print(str(mom))\n",
        "print(repr(mom))\n",
        "print(str(grandma))\n",
        "print(repr(grandma))\n",
        "print(str(dad))\n",
        "print(repr(dad))"
      ],
      "metadata": {
        "id": "gX1qpcKzFwoZ",
        "outputId": "56dc09cb-d518-476a-8177-3513bab1ea16",
        "colab": {
          "base_uri": "https://localhost:8080/"
        }
      },
      "execution_count": 40,
      "outputs": [
        {
          "output_type": "stream",
          "name": "stdout",
          "text": [
            "John Smith\n",
            "Person('Smith', 'John', 'Karen Smith', 'Frank Smith')\n",
            "Karen Smith\n",
            "Person('Smith', 'Karen', 'Nancy Smith', 'unknown')\n",
            "Nancy Smith\n",
            "Person('Smith', 'Nancy', 'unknown', 'unknown')\n",
            "Frank Smith\n",
            "Person('Smith', 'Frank', 'unknown', 'unknown')\n"
          ]
        }
      ]
    },
    {
      "cell_type": "code",
      "source": [
        "# checking maternalGrandmother method\n",
        "print(\"new_p's maternal grandmother: \", new_p.maternalGrandmother())\n",
        "print(\"mom's maternal grandmother: \", mom.maternalGrandmother())"
      ],
      "metadata": {
        "id": "diWG6Q-K3sYf",
        "outputId": "7aeb729d-3ee3-41bc-a3aa-5141e32e4b92",
        "colab": {
          "base_uri": "https://localhost:8080/"
        }
      },
      "execution_count": 41,
      "outputs": [
        {
          "output_type": "stream",
          "name": "stdout",
          "text": [
            "new_p's maternal grandmother:  Nancy Smith\n",
            "mom's maternal grandmother:  unknown\n"
          ]
        }
      ]
    },
    {
      "cell_type": "code",
      "source": [
        "# checking unknownParent method\n",
        "print(\"are grandma's parents unknown?: \", grandma.unknownParent())\n",
        "print(\"are new_p's parents unknown?: \", new_p.unknownParent())\n",
        "print(\"are mom's parents unknown?: \", mom.unknownParent())"
      ],
      "metadata": {
        "id": "sSp7NlmD7Y6X",
        "outputId": "f5e49c2c-6a85-4644-c3b2-e3eb66649765",
        "colab": {
          "base_uri": "https://localhost:8080/"
        }
      },
      "execution_count": 42,
      "outputs": [
        {
          "output_type": "stream",
          "name": "stdout",
          "text": [
            "are grandma's parents unknown?:  True\n",
            "are new_p's parents unknown?:  False\n",
            "are mom's parents unknown?:  True\n"
          ]
        }
      ]
    },
    {
      "cell_type": "code",
      "source": [],
      "metadata": {
        "id": "t7FYUgk89eQU"
      },
      "execution_count": null,
      "outputs": []
    }
  ]
}