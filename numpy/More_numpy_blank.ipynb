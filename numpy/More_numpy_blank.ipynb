{
  "nbformat": 4,
  "nbformat_minor": 0,
  "metadata": {
    "colab": {
      "provenance": [],
      "include_colab_link": true
    },
    "kernelspec": {
      "name": "python3",
      "display_name": "Python 3"
    },
    "language_info": {
      "name": "python"
    }
  },
  "cells": [
    {
      "cell_type": "markdown",
      "metadata": {
        "id": "view-in-github",
        "colab_type": "text"
      },
      "source": [
        "<a href=\"https://colab.research.google.com/github/lillybethw/DS1002/blob/main/numpy/More_numpy_blank.ipynb\" target=\"_parent\"><img src=\"https://colab.research.google.com/assets/colab-badge.svg\" alt=\"Open In Colab\"/></a>"
      ]
    },
    {
      "cell_type": "markdown",
      "source": [
        "### More NumPy\n",
        "### DS 1002: Programming for Data Science\n",
        "---  \n",
        "\n",
        "\n",
        "### SOURCES\n",
        "- https://numpy.org/\n",
        "- https://en.wikipedia.org/wiki/NumPy\n",
        "- https://www.scipy.org/\n",
        "- https://en.wikipedia.org/wiki/SciPy\n",
        "- https://numpy.org/doc/stable/reference/generated/numpy.ndarray.html\n",
        "- https://docs.scipy.org/doc/numpy-1.15.1/reference/generated/numpy.random.randint.html\n",
        "\n",
        "### OBJECTIVES\n",
        "- Introduction to Numpy\n",
        "\n",
        "### CONCEPTS\n",
        "- The numpy package contains useful functions for math operations\n",
        "- The ndarray is the workhorse of the package"
      ],
      "metadata": {
        "id": "mXD9ihv6JzKT"
      }
    },
    {
      "cell_type": "code",
      "source": [
        "import numpy as np"
      ],
      "metadata": {
        "id": "pbPmL-iWBAX-"
      },
      "execution_count": 1,
      "outputs": []
    },
    {
      "cell_type": "markdown",
      "source": [
        "### Constant arrays"
      ],
      "metadata": {
        "id": "wAX7yl2CKLBm"
      }
    },
    {
      "cell_type": "code",
      "execution_count": 7,
      "metadata": {
        "id": "yI1i_jInA5Ke",
        "outputId": "cacf03df-5162-4a8a-c44d-521483ad5d23",
        "colab": {
          "base_uri": "https://localhost:8080/"
        }
      },
      "outputs": [
        {
          "output_type": "stream",
          "name": "stdout",
          "text": [
            "[[0. 0.]\n",
            " [0. 0.]\n",
            " [0. 0.]]\n",
            "[[1. 1. 1.]\n",
            " [1. 1. 1.]]\n",
            "[[17 17 17 17]\n",
            " [17 17 17 17]]\n",
            "[[0 0 0 0]\n",
            " [0 0 0 0]]\n"
          ]
        }
      ],
      "source": [
        "# Create an array of zeros with three rows and two columns\n",
        "zero_array = np.zeros((3, 2))\n",
        "print(zero_array)\n",
        "\n",
        "# or of ones\n",
        "one_array = np.ones((2,3))\n",
        "print(one_array)\n",
        "\n",
        "# or of anything\n",
        "constant_array = np.full((2,4),17)\n",
        "print(constant_array)\n",
        "\n",
        "# mimic the size of an existing array\n",
        "x = np.zeros_like(constant_array)\n",
        "print(x)\n"
      ]
    },
    {
      "cell_type": "markdown",
      "source": [
        "### Making copies\n",
        "\n",
        "is tricky and takes some getting used to!"
      ],
      "metadata": {
        "id": "WMp4Vh4gKeNB"
      }
    },
    {
      "cell_type": "code",
      "source": [
        "# copying values:  this is tricky!\n",
        "zero_array = np.zeros((2,5))\n",
        "print(zero_array)\n",
        "\n",
        "new_array = zero_array\n",
        "\n",
        "new_array[1,1] = 17\n",
        "\n",
        "print(new_array)\n",
        "print(zero_array)\n",
        "print(new_array == zero_array)\n",
        "\n",
        "\n",
        "print(\"\\n \\n\")\n",
        "\n",
        "#compare with the following\n",
        "z_array = np.zeros((2,5))\n",
        "print(z_array)\n",
        "n_array = np.copy(z_array)\n",
        "n_array[1,1] = 17\n",
        "print(z_array)\n",
        "\n",
        "print(n_array == z_array)\n",
        "\n",
        "#copy function makes a new array that's the same as the original, but the original is preserved\n"
      ],
      "metadata": {
        "id": "C9GH9A8iBfzs",
        "outputId": "78d3c1d8-02b2-4fc5-f35b-999fcc2ff4bc",
        "colab": {
          "base_uri": "https://localhost:8080/"
        }
      },
      "execution_count": 10,
      "outputs": [
        {
          "output_type": "stream",
          "name": "stdout",
          "text": [
            "[[0. 0. 0. 0. 0.]\n",
            " [0. 0. 0. 0. 0.]]\n",
            "[[ 0.  0.  0.  0.  0.]\n",
            " [ 0. 17.  0.  0.  0.]]\n",
            "[[ 0.  0.  0.  0.  0.]\n",
            " [ 0. 17.  0.  0.  0.]]\n",
            "[[ True  True  True  True  True]\n",
            " [ True  True  True  True  True]]\n",
            "\n",
            " \n",
            "\n",
            "[[0. 0. 0. 0. 0.]\n",
            " [0. 0. 0. 0. 0.]]\n",
            "[[0. 0. 0. 0. 0.]\n",
            " [0. 0. 0. 0. 0.]]\n",
            "[[ True  True  True  True  True]\n",
            " [ True False  True  True  True]]\n"
          ]
        }
      ]
    },
    {
      "cell_type": "code",
      "source": [
        "x = 3\n",
        "y = np.copy(x)\n",
        "x == y"
      ],
      "metadata": {
        "id": "-AaW3vkeYja-",
        "outputId": "e6f07d11-4a5d-4f33-ffda-306aa9c254e7",
        "colab": {
          "base_uri": "https://localhost:8080/"
        }
      },
      "execution_count": 14,
      "outputs": [
        {
          "output_type": "execute_result",
          "data": {
            "text/plain": [
              "True"
            ]
          },
          "metadata": {},
          "execution_count": 14
        }
      ]
    },
    {
      "cell_type": "markdown",
      "source": [
        "### Broadcasting values"
      ],
      "metadata": {
        "id": "S3BZ10TuKtHL"
      }
    },
    {
      "cell_type": "code",
      "source": [
        "# (min, max,(rows, columns))\n",
        "x_array = np.random.randint(0,100,(5,5))\n",
        "print(x_array , \"\\n\")\n",
        "# makes every value in the 3rd column be 17\n",
        "x_array[:,3] = 17\n",
        "print(x_array)\n"
      ],
      "metadata": {
        "id": "nVPOMJUlKu39",
        "outputId": "91ca2713-0483-4a69-e8d3-2e947b2b034d",
        "colab": {
          "base_uri": "https://localhost:8080/"
        }
      },
      "execution_count": 18,
      "outputs": [
        {
          "output_type": "stream",
          "name": "stdout",
          "text": [
            "[[29 37 81  0 30]\n",
            " [85 89 66 39 62]\n",
            " [64 51 65 62 48]\n",
            " [70 72 40 77 61]\n",
            " [21 23 32  1 12]] \n",
            "\n",
            "[[29 37 81 17 30]\n",
            " [85 89 66 17 62]\n",
            " [64 51 65 17 48]\n",
            " [70 72 40 17 61]\n",
            " [21 23 32 17 12]]\n"
          ]
        }
      ]
    },
    {
      "cell_type": "markdown",
      "source": [
        "### Some array manipulations"
      ],
      "metadata": {
        "id": "OPJDjkwGLA6C"
      }
    },
    {
      "cell_type": "code",
      "source": [
        "# some basic manipulations\n",
        "\n",
        "# Start with a basic two-dimensional array:\n",
        "foo = np.array([[1,2,3,4,5],[6,7,8,9,10]])\n",
        "\n",
        "# flip - reverse the data of an array\n",
        "oof = np.flip(foo)\n",
        "print(oof)\n",
        "\n",
        "# copy - copy an array to an entirely separate array\n",
        "goo = np.copy(foo)\n",
        "print(goo)\n",
        "\n",
        "# concatenate - combine all elements within an array into a single list\n",
        "new_foo = np.concatenate(foo)\n",
        "print(new_foo)\n",
        "\n",
        "# min\n",
        "foomin = np.min(foo)\n",
        "print(foomin)\n",
        "\n",
        "# max\n",
        "foomax = np.max(foo)\n",
        "print(foomax)\n",
        "\n",
        "# mean\n",
        "foomean = np.mean(foo)\n",
        "print(foomean)\n",
        "\n",
        "# sin/cos/tan\n",
        "foosin = np.sin(foo)\n",
        "print(foosin)\n",
        "\n",
        "# standard deviation\n",
        "foostd = np.std(foo)\n",
        "print(foostd)"
      ],
      "metadata": {
        "id": "ZqZ6Y2RYBxuq",
        "outputId": "8ccf8e35-d95a-4c4d-a2f2-8703211c6d54",
        "colab": {
          "base_uri": "https://localhost:8080/"
        }
      },
      "execution_count": 19,
      "outputs": [
        {
          "output_type": "stream",
          "name": "stdout",
          "text": [
            "[[10  9  8  7  6]\n",
            " [ 5  4  3  2  1]]\n",
            "[[ 1  2  3  4  5]\n",
            " [ 6  7  8  9 10]]\n",
            "[ 1  2  3  4  5  6  7  8  9 10]\n",
            "1\n",
            "10\n",
            "5.5\n",
            "[[ 0.84147098  0.90929743  0.14112001 -0.7568025  -0.95892427]\n",
            " [-0.2794155   0.6569866   0.98935825  0.41211849 -0.54402111]]\n",
            "2.8722813232690143\n"
          ]
        }
      ]
    },
    {
      "cell_type": "markdown",
      "source": [
        "### Inserting + Dropping Array Values\n",
        "\n",
        "There are times it's useful to drop a specific index or the start/end of an array of values."
      ],
      "metadata": {
        "id": "c-2Y-CrpEl0k"
      }
    },
    {
      "cell_type": "code",
      "source": [
        "# Drop the first item\n",
        "\n",
        "myarr = np.array([10,15,20,25,30,35,40,45,50])\n",
        "\n",
        "drop_start = myarr[1:]\n",
        "print(drop_start)"
      ],
      "metadata": {
        "id": "JHuM3bDzEqTh",
        "outputId": "5cffbd62-40f5-40a3-939f-0fa7e8bea7fe",
        "colab": {
          "base_uri": "https://localhost:8080/"
        }
      },
      "execution_count": 20,
      "outputs": [
        {
          "output_type": "stream",
          "name": "stdout",
          "text": [
            "[15 20 25 30 35 40 45 50]\n"
          ]
        }
      ]
    },
    {
      "cell_type": "code",
      "source": [
        "# Drop the last item\n",
        "\n",
        "drop_end = myarr[:-1]\n",
        "print(drop_end)"
      ],
      "metadata": {
        "id": "yOy-fXNjFxrT",
        "outputId": "9ab7805d-f8c7-4df5-dc4a-c675169b26f8",
        "colab": {
          "base_uri": "https://localhost:8080/"
        }
      },
      "execution_count": 21,
      "outputs": [
        {
          "output_type": "stream",
          "name": "stdout",
          "text": [
            "[10 15 20 25 30 35 40 45]\n"
          ]
        }
      ]
    },
    {
      "cell_type": "code",
      "source": [
        "# Drop a specific index\n",
        "\n",
        "drop_second_index = np.delete(myarr, 2)\n",
        "print(drop_second_index)"
      ],
      "metadata": {
        "id": "jLSxG43GF0-R",
        "outputId": "c42b95ad-bbe8-41b0-99f1-b51ca038d422",
        "colab": {
          "base_uri": "https://localhost:8080/"
        }
      },
      "execution_count": 22,
      "outputs": [
        {
          "output_type": "stream",
          "name": "stdout",
          "text": [
            "[10 15 25 30 35 40 45 50]\n"
          ]
        }
      ]
    },
    {
      "cell_type": "code",
      "source": [
        "# Drop every other item in the array\n",
        "# Removes every other item starting with 0\n",
        "\n",
        "every_other = np.delete(myarr, np.arange(0, len(myarr), 2))\n",
        "print(every_other)\n",
        "\n",
        "# Another version that removes every other starting with 1\n",
        "every_other = np.delete(myarr, np.arange(0, len(myarr), 2))\n",
        "print(every_other)"
      ],
      "metadata": {
        "id": "eKlRMSolF4j7",
        "outputId": "dd44ebe1-537d-49e9-c4ee-048e2bb376fd",
        "colab": {
          "base_uri": "https://localhost:8080/"
        }
      },
      "execution_count": 23,
      "outputs": [
        {
          "output_type": "stream",
          "name": "stdout",
          "text": [
            "[15 25 35 45]\n",
            "[15 25 35 45]\n"
          ]
        }
      ]
    },
    {
      "cell_type": "code",
      "source": [
        "arr2d = np.array([[1, 2, 3], [4, 5, 6], [7, 8, 9]])\n",
        "arr2d"
      ],
      "metadata": {
        "id": "fj6h0DniF7nk",
        "outputId": "16f80c04-f673-4d4b-d5a1-b269567db469",
        "colab": {
          "base_uri": "https://localhost:8080/"
        }
      },
      "execution_count": 24,
      "outputs": [
        {
          "output_type": "execute_result",
          "data": {
            "text/plain": [
              "array([[1, 2, 3],\n",
              "       [4, 5, 6],\n",
              "       [7, 8, 9]])"
            ]
          },
          "metadata": {},
          "execution_count": 24
        }
      ]
    },
    {
      "cell_type": "code",
      "source": [
        "arr2d[2]"
      ],
      "metadata": {
        "id": "c5ZrGf2eGNZQ",
        "outputId": "3cbac118-2b19-4cae-ac06-e620b123fb3f",
        "colab": {
          "base_uri": "https://localhost:8080/"
        }
      },
      "execution_count": 25,
      "outputs": [
        {
          "output_type": "execute_result",
          "data": {
            "text/plain": [
              "array([7, 8, 9])"
            ]
          },
          "metadata": {},
          "execution_count": 25
        }
      ]
    },
    {
      "cell_type": "code",
      "source": [
        "# Simplified notation\n",
        "\n",
        "arr2d[0][2]\n",
        "arr2d[0, 2]\n"
      ],
      "metadata": {
        "id": "YsnFcXiZGN8P",
        "outputId": "5c7ae6a4-150d-4327-98ce-e45d5bbcbc17",
        "colab": {
          "base_uri": "https://localhost:8080/"
        }
      },
      "execution_count": 27,
      "outputs": [
        {
          "output_type": "execute_result",
          "data": {
            "text/plain": [
              "3"
            ]
          },
          "metadata": {},
          "execution_count": 27
        }
      ]
    },
    {
      "cell_type": "markdown",
      "source": [
        "A nice visual of a 2D array\n",
        "\n",
        "<img src=\"https://learning.oreilly.com/api/v2/epubs/\n",
        "urn:orm:book:9781449323592/files/\n",
        "httpatomoreillycomsourceoreillyimages2172112.png\" height=\"50%\" width=\"50%\"/>"
      ],
      "metadata": {
        "id": "rqJxGlUIG0Mz"
      }
    },
    {
      "cell_type": "markdown",
      "source": [
        "1.) arr[everything up to (but not including) 2 in axis 0, everything from 1 on in axis 1]"
      ],
      "metadata": {
        "id": "ZOrHeVfTcvB4"
      }
    },
    {
      "cell_type": "markdown",
      "source": [
        "**Two-Dimensional Array Slicing**\n",
        "\n",
        "<img src=\"https://learning.oreilly.com/api/v2/epubs/urn:orm:book:9781449323592/files/httpatomoreillycomsourceoreillyimages2172114.png\" height=\"50%\" width=\"50%\"/>"
      ],
      "metadata": {
        "id": "nmpAjq8mG-yN"
      }
    },
    {
      "cell_type": "markdown",
      "source": [
        "### Student Exercises\n",
        "\n",
        "* Convert `sudoku_game` into a NumPy array called `sudoku_array`.  \n",
        "* Print the class `type()` of `sudoku_array` to check that your code has worked properly.\n"
      ],
      "metadata": {
        "id": "OUOFrGdOHaoK"
      }
    },
    {
      "cell_type": "code",
      "source": [
        "# sudoku_game is Python list containing a sudoku game\n",
        "\n",
        "sudoku_game = [[0, 0, 4, 3, 0, 0, 2, 0, 9],\n",
        "               [0, 0, 5, 0, 0, 9, 0, 0, 1],\n",
        "               [0, 7, 0, 0, 6, 0, 0, 4, 3],\n",
        "               [0, 0, 6, 0, 0, 2, 0, 8, 7],\n",
        "               [1, 9, 0, 0, 0, 7, 4, 0, 0],\n",
        "               [0, 5, 0, 0, 8, 3, 0, 0, 0],\n",
        "               [6, 0, 0, 0, 0, 0, 1, 0, 5],\n",
        "               [0, 0, 3, 5, 0, 8, 6, 9, 0],\n",
        "               [0, 4, 2, 9, 1, 0, 3, 0, 0]]"
      ],
      "metadata": {
        "id": "iS3dyZzVHbb2"
      },
      "execution_count": 29,
      "outputs": []
    },
    {
      "cell_type": "code",
      "source": [
        "sudoku_array = np.copy(sudoku_game)\n",
        "type(sudoku_array)"
      ],
      "metadata": {
        "id": "wNiWXu4fHf-R",
        "outputId": "ad2ad607-0611-4371-d2b8-a614db895339",
        "colab": {
          "base_uri": "https://localhost:8080/"
        }
      },
      "execution_count": 31,
      "outputs": [
        {
          "output_type": "execute_result",
          "data": {
            "text/plain": [
              "numpy.ndarray"
            ]
          },
          "metadata": {},
          "execution_count": 31
        }
      ]
    },
    {
      "cell_type": "markdown",
      "source": [
        "Create and print an array filled with zeros called `zero_array`, which has two rows and four columns."
      ],
      "metadata": {
        "id": "QBp0wbQSHyKm"
      }
    },
    {
      "cell_type": "code",
      "source": [
        "zero_array = np.zeros((2,4))\n",
        "zero_array"
      ],
      "metadata": {
        "id": "S_IMFzDyHy4L",
        "outputId": "6e3daed6-2726-4e2a-8759-fbaed0c65ab3",
        "colab": {
          "base_uri": "https://localhost:8080/"
        }
      },
      "execution_count": 35,
      "outputs": [
        {
          "output_type": "execute_result",
          "data": {
            "text/plain": [
              "array([[0., 0., 0., 0.],\n",
              "       [0., 0., 0., 0.]])"
            ]
          },
          "metadata": {},
          "execution_count": 35
        }
      ]
    },
    {
      "cell_type": "markdown",
      "source": [
        "Create and print an array of random floats between 0 and 1 called `random_array`, which has three rows and six columns."
      ],
      "metadata": {
        "id": "eLZUMyLoHzWe"
      }
    },
    {
      "cell_type": "code",
      "source": [
        "random_array = np.random.random([3,6])\n",
        "random_array"
      ],
      "metadata": {
        "id": "DIjIJcIkH2gF",
        "outputId": "48a39163-8e15-4957-f16e-69e2898e4496",
        "colab": {
          "base_uri": "https://localhost:8080/"
        }
      },
      "execution_count": 50,
      "outputs": [
        {
          "output_type": "execute_result",
          "data": {
            "text/plain": [
              "array([[0.30705119, 0.61347789, 0.69043903, 0.5528753 , 0.58423715,\n",
              "        0.69383114],\n",
              "       [0.91028876, 0.75053355, 0.97183041, 0.92637721, 0.46395747,\n",
              "        0.63991208],\n",
              "       [0.70181526, 0.10193181, 0.30496664, 0.910827  , 0.34371991,\n",
              "        0.5322092 ]])"
            ]
          },
          "metadata": {},
          "execution_count": 50
        }
      ]
    },
    {
      "cell_type": "markdown",
      "source": [
        "Your next task is to create a scatter plot with the values from `doubling_array` on the y-axis.  \n",
        "\n",
        "A scatter plot can be created (and shown) using the following functions from the package `matplotlib.pyplot` (shown here aliased as `plt`):  \n",
        "\n",
        "`plt.scatter(x_values, y_values)`\n",
        "\n",
        "`plt.show()`"
      ],
      "metadata": {
        "id": "yGsi1gotH29g"
      }
    },
    {
      "cell_type": "code",
      "source": [
        "import matplotlib.pyplot as plt\n",
        "doubling_array = np.array([1, 2, 4, 8, 16, 32, 64, 128, 256, 512])\n",
        "one_to_ten = np.arange(1,11)\n",
        "plt.scatter(one_to_ten, doubling_array)\n",
        "plt.show"
      ],
      "metadata": {
        "id": "1L-S-c4dIOuy",
        "outputId": "6d5d160a-65c5-4bda-ef09-954b1d634b3b",
        "colab": {
          "base_uri": "https://localhost:8080/",
          "height": 599
        }
      },
      "execution_count": 67,
      "outputs": [
        {
          "output_type": "execute_result",
          "data": {
            "text/plain": [
              "<function matplotlib.pyplot.show(close=None, block=None)>"
            ],
            "text/html": [
              "<div style=\"max-width:800px; border: 1px solid var(--colab-border-color);\"><style>\n",
              "      pre.function-repr-contents {\n",
              "        overflow-x: auto;\n",
              "        padding: 8px 12px;\n",
              "        max-height: 500px;\n",
              "      }\n",
              "\n",
              "      pre.function-repr-contents.function-repr-contents-collapsed {\n",
              "        cursor: pointer;\n",
              "        max-height: 100px;\n",
              "      }\n",
              "    </style>\n",
              "    <pre style=\"white-space: initial; background:\n",
              "         var(--colab-secondary-surface-color); padding: 8px 12px;\n",
              "         border-bottom: 1px solid var(--colab-border-color);\"><b>matplotlib.pyplot.show</b><br/>def show(*args, **kwargs)</pre><pre class=\"function-repr-contents function-repr-contents-collapsed\" style=\"\"><a class=\"filepath\" style=\"display:none\" href=\"#\">/usr/local/lib/python3.10/dist-packages/matplotlib/pyplot.py</a>Display all open figures.\n",
              "\n",
              "Parameters\n",
              "----------\n",
              "block : bool, optional\n",
              "    Whether to wait for all figures to be closed before returning.\n",
              "\n",
              "    If `True` block and run the GUI main loop until all figure windows\n",
              "    are closed.\n",
              "\n",
              "    If `False` ensure that all figure windows are displayed and return\n",
              "    immediately.  In this case, you are responsible for ensuring\n",
              "    that the event loop is running to have responsive figures.\n",
              "\n",
              "    Defaults to True in non-interactive mode and to False in interactive\n",
              "    mode (see `.pyplot.isinteractive`).\n",
              "\n",
              "See Also\n",
              "--------\n",
              "ion : Enable interactive mode, which shows / updates the figure after\n",
              "      every plotting command, so that calling ``show()`` is not necessary.\n",
              "ioff : Disable interactive mode.\n",
              "savefig : Save the figure to an image file instead of showing it on screen.\n",
              "\n",
              "Notes\n",
              "-----\n",
              "**Saving figures to file and showing a window at the same time**\n",
              "\n",
              "If you want an image file as well as a user interface window, use\n",
              "`.pyplot.savefig` before `.pyplot.show`. At the end of (a blocking)\n",
              "``show()`` the figure is closed and thus unregistered from pyplot. Calling\n",
              "`.pyplot.savefig` afterwards would save a new and thus empty figure. This\n",
              "limitation of command order does not apply if the show is non-blocking or\n",
              "if you keep a reference to the figure and use `.Figure.savefig`.\n",
              "\n",
              "**Auto-show in jupyter notebooks**\n",
              "\n",
              "The jupyter backends (activated via ``%matplotlib inline``,\n",
              "``%matplotlib notebook``, or ``%matplotlib widget``), call ``show()`` at\n",
              "the end of every cell by default. Thus, you usually don&#x27;t have to call it\n",
              "explicitly there.</pre>\n",
              "      <script>\n",
              "      if (google.colab.kernel.accessAllowed && google.colab.files && google.colab.files.view) {\n",
              "        for (const element of document.querySelectorAll('.filepath')) {\n",
              "          element.style.display = 'block'\n",
              "          element.onclick = (event) => {\n",
              "            event.preventDefault();\n",
              "            event.stopPropagation();\n",
              "            google.colab.files.view(element.textContent, 401);\n",
              "          };\n",
              "        }\n",
              "      }\n",
              "      for (const element of document.querySelectorAll('.function-repr-contents')) {\n",
              "        element.onclick = (event) => {\n",
              "          event.preventDefault();\n",
              "          event.stopPropagation();\n",
              "          element.classList.toggle('function-repr-contents-collapsed');\n",
              "        };\n",
              "      }\n",
              "      </script>\n",
              "      </div>"
            ]
          },
          "metadata": {},
          "execution_count": 67
        },
        {
          "output_type": "display_data",
          "data": {
            "text/plain": [
              "<Figure size 640x480 with 1 Axes>"
            ],
            "image/png": "[encoded data removed]"
          },
          "metadata": {}
        }
      ]
    },
    {
      "cell_type": "markdown",
      "source": [
        "* Using `np.arange()`, create a 1D array called `one_to_ten` which holds all integers from one to ten (inclusive).  \n",
        "\n",
        "* Create a scatterplot with `doubling_array` as the y values and `one_to_ten` as the x values.  "
      ],
      "metadata": {
        "id": "4fU6PPs4Ie9G"
      }
    },
    {
      "cell_type": "markdown",
      "source": [
        "Earlier you created a `sudoku_game` two-dimensional NumPy array. Perhaps you have hundreds of sudoku game arrays, and you'd like to save the solution for this one, `sudoku_solution`, as part of the same array as its corresponding game in order to organize your sudoku data better. You could accomplish this by stacking the two 2D arrays on top of each other to create a 3D array."
      ],
      "metadata": {
        "id": "51DOwEt5ItzF"
      }
    },
    {
      "cell_type": "code",
      "source": [
        "sudoku_solution = [[8, 6, 4, 3, 7, 1, 2, 5, 9],\n",
        "                   [3, 2, 5, 8, 4, 9, 7, 6, 1],\n",
        "                   [9, 7, 1, 2, 6, 5, 8, 4, 3],\n",
        "                   [4, 3, 6, 1, 9, 2, 5, 8, 7],\n",
        "                   [1, 9, 8, 6, 5, 7, 4, 3, 2],\n",
        "                   [2, 5, 7, 4, 8, 3, 9, 1, 6],\n",
        "                   [6, 8, 9, 7, 3, 4, 1, 2, 5],\n",
        "                   [7, 1, 3, 5, 2, 8, 6, 9, 4],\n",
        "                   [5, 4, 2, 9, 1, 6, 3, 7, 8]]\n"
      ],
      "metadata": {
        "id": "g09WkBUPI2TK"
      },
      "execution_count": 68,
      "outputs": []
    },
    {
      "cell_type": "markdown",
      "source": [
        "* Create a 3D array called `game_and_solution` by stacking the two 2D arrays, created from `sudoku_game` and `sudoku_solution`, on top of one another; in the final array, `sudoku_game` should appear before `sudoku_solution`.  \n",
        "\n",
        "* Print `game_and_solution`."
      ],
      "metadata": {
        "id": "48tNWEf9I3UH"
      }
    },
    {
      "cell_type": "code",
      "source": [
        "game_and_solution ="
      ],
      "metadata": {
        "id": "WsJo0S6dJBR3"
      },
      "execution_count": null,
      "outputs": []
    },
    {
      "cell_type": "markdown",
      "source": [
        "* Create another 3D array called `new_game_and_solution` with a different 2D game and 2D solution pair: `new_sudoku_game` and `new_sudoku_solution` (below). `new_sudoku_game` should appear before `new_sudoku_solution`.   \n",
        "\n",
        "* Create a 4D array called `games_and_solutions` by making an array out of the two 3D arrays: `game_and_solution` and `new_game_and_solution`, in that order.  \n",
        "\n",
        "* Print the shape of `games_and_solutions`  "
      ],
      "metadata": {
        "id": "CSxRhh6TJBwn"
      }
    },
    {
      "cell_type": "code",
      "source": [
        "new_sudoku_game = [[0, 0, 4, 3, 0, 0, 0, 0, 0],\n",
        "                   [8, 9, 0, 2, 0, 0, 6, 7, 0],\n",
        "                   [7, 0, 0, 9, 0, 0, 0, 5, 0],\n",
        "                   [5, 0, 0, 0, 0, 8, 1, 4, 0],\n",
        "                   [0, 7, 0, 0, 3, 2, 0, 6, 0],\n",
        "                   [6, 0, 0, 0, 0, 1, 3, 0, 8],\n",
        "                   [0, 0, 1, 7, 5, 0, 9, 0, 0],\n",
        "                   [0, 0, 5, 0, 4, 0, 0, 1, 2],\n",
        "                   [9, 8, 0, 0, 0, 6, 0, 0, 5]]\n",
        "\n",
        "new_sudoku_solution = [[2, 5, 4, 3, 6, 7, 8, 9, 1],\n",
        "                       [8, 9, 3, 2, 1, 5, 6, 7, 4],\n",
        "                       [7, 1, 6, 9, 8, 4, 2, 5, 3],\n",
        "                       [5, 3, 2, 6, 9, 8, 1, 4, 7],\n",
        "                       [1, 7, 8, 4, 3, 2, 5, 6, 9],\n",
        "                       [6, 4, 9, 5, 7, 1, 3, 2, 8],\n",
        "                       [4, 2, 1, 7, 5, 3, 9, 8, 6],\n",
        "                       [3, 6, 5, 8, 4, 9, 7, 1, 2],\n",
        "                       [9, 8, 7, 1, 2, 6, 4, 3, 5]]"
      ],
      "metadata": {
        "id": "izVKZ7PQJCfG"
      },
      "execution_count": null,
      "outputs": []
    },
    {
      "cell_type": "code",
      "source": [
        "# put code here"
      ],
      "metadata": {
        "id": "kzny1zWTMXLs"
      },
      "execution_count": null,
      "outputs": []
    },
    {
      "cell_type": "markdown",
      "source": [
        "* Flatten `sudoku_game` so that it is a 1D array, and save it as `flattened_game`.  \n",
        "\n",
        "* Print the `.shape` of `flattened_game`.\n",
        "\n",
        "* Hint: look up the documentation on `.flatten`."
      ],
      "metadata": {
        "id": "IVM9bCnAJLdk"
      }
    },
    {
      "cell_type": "code",
      "source": [
        "# put code here"
      ],
      "metadata": {
        "id": "jgO3JpoJJMfc"
      },
      "execution_count": null,
      "outputs": []
    },
    {
      "cell_type": "markdown",
      "source": [
        "* Reshape the `flattened_game` back to its original shape of nine rows and nine columns; save the new array as `reshaped_game`.  \n",
        "\n",
        "* Look up documenation on `.reshape`.\n",
        "\n",
        "* Does NumPy keep the array elements in the same order after being flattened and reshaped?"
      ],
      "metadata": {
        "id": "0vTBiuSLJQcv"
      }
    },
    {
      "cell_type": "code",
      "source": [
        "# put code here"
      ],
      "metadata": {
        "id": "80hxMhr2JREn"
      },
      "execution_count": null,
      "outputs": []
    }
  ]
}